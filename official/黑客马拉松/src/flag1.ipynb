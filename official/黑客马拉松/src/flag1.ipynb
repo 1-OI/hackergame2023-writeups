{
 "cells": [
  {
   "cell_type": "code",
   "execution_count": null,
   "id": "52034458",
   "metadata": {
    "ExecuteTime": {
     "end_time": "2023-10-24T00:36:12.250930Z",
     "start_time": "2023-10-24T00:36:12.240939Z"
    }
   },
   "outputs": [],
   "source": [
    "class TimeoutError(Exception):\n",
    "    pass\n",
    "\n",
    "def handler(signum, frame):\n",
    "    raise TimeoutError()\n",
    "\n",
    "import signal\n",
    "signal.signal(signal.SIGALRM, handler)"
   ]
  },
  {
   "cell_type": "code",
   "execution_count": null,
   "id": "bf7b7bf5",
   "metadata": {
    "ExecuteTime": {
     "start_time": "2023-10-24T00:36:12.661Z"
    }
   },
   "outputs": [],
   "source": [
    "e = 257\n",
    "while True:\n",
    "    fc = [99] + [randint(1,95) for _ in range(2)] +[0]\n",
    "    print(fc)\n",
    "    f = e^fc[0] - e^fc[1] + e^fc[2] - e^fc[3]\n",
    "    try:\n",
    "        signal.alarm(3)\n",
    "        factors = []\n",
    "        ff = f\n",
    "        while True:\n",
    "            k, _ = ecm.find_factor(ff)\n",
    "            if k not in Primes():\n",
    "                k = list(factor(k))[0][0]\n",
    "            factors.append(k)\n",
    "            ff = ff // k\n",
    "            print(factors)\n",
    "            if ff in Primes():\n",
    "                factors.append(ff)\n",
    "                break\n",
    "    except:\n",
    "        continue\n",
    "    finally:\n",
    "        signal.alarm(int(0))\n",
    "    if len(factors) > 20 and factors[-1] > 2^128:\n",
    "        break"
   ]
  },
  {
   "cell_type": "code",
   "execution_count": null,
   "id": "f66b6bea",
   "metadata": {
    "ExecuteTime": {
     "end_time": "2023-10-23T23:54:04.412653Z",
     "start_time": "2023-10-23T23:54:03.355406Z"
    }
   },
   "outputs": [],
   "source": [
    "ck=(factors[-1]*factors[0])\n",
    "primes = {}\n",
    "while True:\n",
    "    s = ck\n",
    "    for z in sample(factors[1:-1],randint(1,len(factors)-2)):\n",
    "        s *= z\n",
    "    if s+1 in Primes():\n",
    "        primes[(s+1).bit_length()] = s+1\n",
    "        if 1024-(s+1).bit_length() in primes:\n",
    "            break"
   ]
  },
  {
   "cell_type": "code",
   "execution_count": 1,
   "id": "0bff8c95",
   "metadata": {
    "ExecuteTime": {
     "end_time": "2023-10-24T12:02:41.375886Z",
     "start_time": "2023-10-24T12:02:41.367813Z"
    }
   },
   "outputs": [],
   "source": [
    "p=158627236620300768971181186557083051904700510000783692409072828117061848752046688497054945636976504112400020292865851970160214447096142508572737633716464941029\n",
    "q=852589032346331877254556899369819689521084661432329137739347490081593272245835945593546876840132632332627098317923374586919725141114954947862916016317\n",
    "lfp = 22833087297707435274476653319694535358668459345931805419833394253100805072069926214209006712042748083175078800550748182539992298383467189932887\n",
    "e = 257\n",
    "N = p*q\n",
    "\n",
    "k = 1024 - 96 # unknown size: 96 bits\n",
    "\n",
    "x = polygen(ZZ)\n",
    "f = x^99 - x^59 + x^48 - 1\n",
    "relation_coeffs = [(99,1),(59,-1),(48,1),(0,-1)]"
   ]
  },
  {
   "cell_type": "code",
   "execution_count": 2,
   "id": "b015f1f6",
   "metadata": {
    "ExecuteTime": {
     "end_time": "2023-10-24T12:02:42.107220Z",
     "start_time": "2023-10-24T12:02:42.102191Z"
    }
   },
   "outputs": [],
   "source": [
    "phi=(p-1)*(q-1)//gcd(p-1,q-1)"
   ]
  },
  {
   "cell_type": "code",
   "execution_count": 3,
   "id": "86a44ec6",
   "metadata": {
    "ExecuteTime": {
     "end_time": "2023-10-24T12:02:42.420507Z",
     "start_time": "2023-10-24T12:02:42.410879Z"
    }
   },
   "outputs": [],
   "source": [
    "d = 1/Zmod(phi)(e)"
   ]
  },
  {
   "cell_type": "code",
   "execution_count": 4,
   "id": "dfcc027c",
   "metadata": {
    "ExecuteTime": {
     "end_time": "2023-10-24T12:02:42.928638Z",
     "start_time": "2023-10-24T12:02:42.895532Z"
    }
   },
   "outputs": [],
   "source": [
    "import mvcoppersmith\n",
    "\n",
    "def RSAPRG(s0, N, e, k):\n",
    "    state = s0\n",
    "    for i in range(50000):\n",
    "        state = Integer(pow(state, e, N))\n",
    "        yield (state % 2**k)\n",
    "\n",
    "def attempt(diylll=False, mult=1, extras=[], useModN=True, outputs = None):\n",
    "    #global prg,full,outputs,fullstates,which_outputs,bs,fss,ys,F,M,unknown_parts,scalefactors,ms,ML,I,IB,polys\n",
    "    N = p*q\n",
    "    if useModN:\n",
    "        modn = N\n",
    "    else:\n",
    "        modn = p\n",
    "    if not outputs:\n",
    "        s0 = randint(1,N-1)\n",
    "        print(\"Generating PRG outputs\")\n",
    "        prg = RSAPRG(s0=Integer(s0), N=N, e=e, k=k)\n",
    "        full = RSAPRG(s0=Integer(s0), N=N, e=e, k=int(log(N,2)+1))\n",
    "        howfar = max(a for (a,_) in relation_coeffs)+1\n",
    "        print(\"number of prng: \",howfar)\n",
    "        outputs = [next(prg) for _ in range(howfar)]\n",
    "        fullstates = [next(full) for _ in range(howfar)]\n",
    "        print(\"Outputs generated\")\n",
    "\n",
    "    print(\"---attack starts here---\")\n",
    "    which_outputs = [i for (i,c) in relation_coeffs]\n",
    "\n",
    "    bs = [outputs[i] for i in which_outputs]\n",
    "    #fss = [fullstates[i] for i in which_outputs] # for debugging\n",
    "    #unknown_parts = [(fs-b)//(2**k) for (fs,b) in zip(fss,bs)] # for debugging\n",
    "    #print(fss, unknown_parts)\n",
    "    \n",
    "    ys = polygens(ZZ,'y',len(bs))\n",
    "    F = (Integer(pow(2,-(len(ys)//2)*k,modn)) * (\n",
    "        prod(\n",
    "            (2**k * ys[i] + bs[i])**(relation_coeffs[i][1])\n",
    "            for i in range(len(relation_coeffs))\n",
    "            if relation_coeffs[i][1] > 0\n",
    "        )\n",
    "        - prod(\n",
    "            (2**k * ys[i] + bs[i])**(-relation_coeffs[i][1])\n",
    "            for i in range(len(relation_coeffs))\n",
    "            if relation_coeffs[i][1] < 0\n",
    "        )\n",
    "    )) % modn\n",
    "\n",
    "    #assert F(*[(fs - b)//(2**k) for (b,fs) in zip(bs,fss)]) % modn == 0 # for debugging\n",
    "\n",
    "    print(\"Making Coppersmith lattice...\")\n",
    "    mvcoppersmith.coppersmith_params(F, mult=mult, extras=extras)\n",
    "    M, ms, scalefactors = mvcoppersmith.coppersmith_makelattice(F, N//(2**k), modn, mult=mult, extras=extras)\n",
    "    print(\"detM = 2^\", prod(M.diagonal()).nbits())\n",
    "\n",
    "    #assert all(mvcoppersmith.vec_to_poly(vec,ms,scalefactors)(*unknown_parts) % modn**mult == 0 for vec in M) # for debugging\n",
    "\n",
    "    assert not any(M[i].is_zero() for i in range(len(ms)))\n",
    "\n",
    "    if diylll:\n",
    "        filename = input(\"Output filename for lattice to be LLL-reduced: \")\n",
    "        mvcoppersmith.export_lattice(M, filename)\n",
    "\n",
    "        filename = input(\"Input filename for LLL-reduced lattice: \")\n",
    "        ML = mvcoppersmith.import_lattice(filename)\n",
    "    else:\n",
    "        print(\"Running LLL on dimension %d lattice...\" % len(M.rows()))\n",
    "        ML = M.dense_matrix().LLL()\n",
    "        print(\"Done running LLL.\")\n",
    "\n",
    "    global shortrows\n",
    "    shortrows = [row for row in ML.rows() if row.norm(1) < modn**mult]\n",
    "    print(\"Number of vectors that seem short enough: \", len(shortrows))\n",
    "    if len(shortrows) == 0: return False\n",
    "    polys = [mvcoppersmith.vec_to_poly(row, ms, scalefactors) for row in shortrows]\n",
    "    #assert all( pol(*unknown_parts) == 0 for pol in polys)\n",
    "\n",
    "    # polys now contains polynomials that evaluate to 0 over the integers at the solution.\n",
    "    # The coefficients are huge (on the order of modn^mult), but the solutions we're looking for are (relatively) small.\n",
    "    # We can dramatically speed up the groebner basis computation by working mod a prime instead of over ZZ.\n",
    "    print(\"Finding prime to work mod (if slow, this can be precomputed)\")\n",
    "    grob_mod = next_prime(2 * N//(2**k)) # slow\n",
    "    grob_ring = Zmod(grob_mod)\n",
    "    I = ideal([f.change_ring(grob_ring) for f in polys])\n",
    "    print(\"Taking Groebner basis\")\n",
    "    set_verbose(2)\n",
    "    #IB = I.groebner_basis(algorithm='magma') # uncomment if magma is installed\n",
    "    IB = I.groebner_basis() # comment out if magma is installed\n",
    "    results = [(poly / poly.content()).univariate_polynomial() for poly in IB if poly.nvariables() == 1]\n",
    "    if len(results) == 0:\n",
    "        print(\"no results\")\n",
    "    for poly in results:\n",
    "        print(poly)\n",
    "        root = poly.roots(multiplicities=False)[0]\n",
    "        if poly.variables()[0] == ys[0]:\n",
    "            recovered_state = bs[0] + 2**k * (root.lift())\n",
    "    return recovered_state"
   ]
  },
  {
   "cell_type": "code",
   "execution_count": 5,
   "id": "9eafdb95",
   "metadata": {
    "ExecuteTime": {
     "end_time": "2023-10-24T12:02:43.526134Z",
     "start_time": "2023-10-24T12:02:43.407513Z"
    }
   },
   "outputs": [],
   "source": [
    "import pwn"
   ]
  },
  {
   "cell_type": "code",
   "execution_count": 6,
   "id": "8e22f2a9",
   "metadata": {
    "ExecuteTime": {
     "end_time": "2023-10-24T12:02:45.117992Z",
     "start_time": "2023-10-24T12:02:44.274736Z"
    }
   },
   "outputs": [
    {
     "name": "stdout",
     "output_type": "stream",
     "text": [
      "[x] Opening connection to 172.30.160.1 on port 20230\n",
      "[x] Opening connection to 172.30.160.1 on port 20230: Trying 172.30.160.1\n",
      "[+] Opening connection to 172.30.160.1 on port 20230: Done\n"
     ]
    },
    {
     "name": "stderr",
     "output_type": "stream",
     "text": [
      "/tmp/ipykernel_808232/2635518492.py:2: BytesWarning: Text is not bytes; assuming ASCII, no guarantees. See https://docs.pwntools.com/#bytes\n",
      "  re.sendline('19:MEYCIQD2CdoDOWdvcr5lLPly8EfSt4yCtcDaKnimEZ10rb2MrAIhAL1cHabquOYNulSw8ldaaV+7SAp0i6/Ob+ZJ91ZiSm8s')\n",
      "/tmp/ipykernel_808232/2635518492.py:3: BytesWarning: Text is not bytes; assuming ASCII, no guarantees. See https://docs.pwntools.com/#bytes\n",
      "  re.sendline(str(p))\n",
      "/tmp/ipykernel_808232/2635518492.py:4: BytesWarning: Text is not bytes; assuming ASCII, no guarantees. See https://docs.pwntools.com/#bytes\n",
      "  re.sendline(str(q))\n",
      "/tmp/ipykernel_808232/2635518492.py:5: BytesWarning: Text is not bytes; assuming ASCII, no guarantees. See https://docs.pwntools.com/#bytes\n",
      "  re.sendline(str(lfp))\n",
      "/tmp/ipykernel_808232/2635518492.py:6: BytesWarning: Text is not bytes; assuming ASCII, no guarantees. See https://docs.pwntools.com/#bytes\n",
      "  re.sendline(str(lfp))\n",
      "/tmp/ipykernel_808232/2635518492.py:7: BytesWarning: Text is not bytes; assuming ASCII, no guarantees. See https://docs.pwntools.com/#bytes\n",
      "  re.sendline(str(e))\n",
      "/tmp/ipykernel_808232/2635518492.py:8: BytesWarning: Text is not bytes; assuming ASCII, no guarantees. See https://docs.pwntools.com/#bytes\n",
      "  re.sendline('1')\n",
      "/opt/Sagemath/lib/python3.11/site-packages/pwnlib/tubes/tube.py:1484: BytesWarning: Text is not bytes; assuming ASCII, no guarantees. See https://docs.pwntools.com/#bytes\n",
      "  return func(self, *a, **kw)\n"
     ]
    }
   ],
   "source": [
    "re=pwn.remote('172.30.160.1',int(20230))\n",
    "re.sendline('19:MEYCIQD2CdoDOWdvcr5lLPly8EfSt4yCtcDaKnimEZ10rb2MrAIhAL1cHabquOYNulSw8ldaaV+7SAp0i6/Ob+ZJ91ZiSm8s')\n",
    "re.sendline(str(p))\n",
    "re.sendline(str(q))\n",
    "re.sendline(str(lfp))\n",
    "re.sendline(str(lfp))\n",
    "re.sendline(str(e))\n",
    "re.sendline('1')\n",
    "re.readuntil(\"[\")\n",
    "l=re.readuntil(\"]\")\n",
    "outputs = eval(\"[\"+l.decode())"
   ]
  },
  {
   "cell_type": "code",
   "execution_count": 7,
   "id": "139d5e5d",
   "metadata": {
    "ExecuteTime": {
     "end_time": "2023-10-24T12:02:45.532251Z",
     "start_time": "2023-10-24T12:02:45.122289Z"
    }
   },
   "outputs": [
    {
     "name": "stdout",
     "output_type": "stream",
     "text": [
      "---attack starts here---\n",
      "Making Coppersmith lattice...\n",
      "determinant = p**6 B**8\n",
      "1.03**49 B**8 N**6 < N**7\n",
      "2**2.0896 B**8.00 < N\n",
      "dimension 7\n",
      "detM = 2^ 6907\n",
      "Running LLL on dimension 7 lattice...\n",
      "Done running LLL.\n",
      "Number of vectors that seem short enough:  5\n",
      "Finding prime to work mod (if slow, this can be precomputed)\n",
      "Taking Groebner basis\n",
      "// ** loaded /opt/Sagemath/bin/../share/singular/LIB/general.lib (4.1.2.0,Feb_2019)\n",
      "// ** loaded /opt/Sagemath/bin/../share/singular/LIB/ring.lib (4.3.1.2,Nov_2022)\n",
      "// ** loaded /opt/Sagemath/bin/../share/singular/LIB/primdec.lib (4.2.1.1,Jul_2021)\n",
      "// ** loaded /opt/Sagemath/bin/../share/singular/LIB/absfact.lib (4.1.2.0,Feb_2019)\n",
      "// ** loaded /opt/Sagemath/bin/../share/singular/LIB/triang.lib (4.1.2.0,Feb_2019)\n",
      "// ** loaded /opt/Sagemath/bin/../share/singular/LIB/random.lib (4.1.2.0,Feb_2019)\n",
      "// ** loaded /opt/Sagemath/bin/../share/singular/LIB/elim.lib (4.1.2.0,Feb_2019)\n",
      "// ** loaded /opt/Sagemath/bin/../share/singular/LIB/matrix.lib (4.1.2.0,Feb_2019)\n",
      "// ** loaded /opt/Sagemath/bin/../share/singular/LIB/nctools.lib (4.1.2.0,Feb_2019)\n",
      "// ** loaded /opt/Sagemath/bin/../share/singular/LIB/polylib.lib (4.2.0.0,Dec_2020)\n",
      "// ** loaded /opt/Sagemath/bin/../share/singular/LIB/inout.lib (4.1.2.0,Feb_2019)\n",
      "// ** right side is not a datum, assignment ignored\n",
      "// ** in line >>def sage1=option(sage0);<<\n",
      "// ** right side is not a datum, assignment ignored\n",
      "// ** in line >>def sage3=option(sage2);<<\n",
      "// ** right side is not a datum, assignment ignored\n",
      "// ** in line >>def sage5=option(sage4);<<\n",
      "// ** right side is not a datum, assignment ignored\n",
      "// ** in line >>def sage9=option(sage8);<<\n",
      "// ** right side is not a datum, assignment ignored\n",
      "// ** in line >>def sage11=option(sage10);<<\n",
      "// ** right side is not a datum, assignment ignored\n",
      "// ** in line >>def sage20=option(sage19);<<\n",
      "\n",
      "verbose 0 (4173: multi_polynomial_ideal.py, groebner_basis) Warning: falling back to very slow toy implementation.\n",
      "0 reductions to zero.\n",
      "y0 + 111724540953185951247461146030\n",
      "y1 + 64176983844531628212222434623\n",
      "y2 + 116423367788110019642825529834\n",
      "y3 + 86423076959442414642094133902\n"
     ]
    }
   ],
   "source": [
    "state=attempt(outputs=outputs)"
   ]
  },
  {
   "cell_type": "code",
   "execution_count": 8,
   "id": "f50e6227",
   "metadata": {
    "ExecuteTime": {
     "end_time": "2023-10-24T12:02:46.087531Z",
     "start_time": "2023-10-24T12:02:46.081273Z"
    }
   },
   "outputs": [
    {
     "name": "stderr",
     "output_type": "stream",
     "text": [
      "/tmp/ipykernel_808232/1282192166.py:1: BytesWarning: Text is not bytes; assuming ASCII, no guarantees. See https://docs.pwntools.com/#bytes\n",
      "  re.sendline(str(state))\n"
     ]
    }
   ],
   "source": [
    "re.sendline(str(state))"
   ]
  },
  {
   "cell_type": "code",
   "execution_count": 9,
   "id": "b7bf22da",
   "metadata": {
    "ExecuteTime": {
     "end_time": "2023-10-24T12:02:47.033908Z",
     "start_time": "2023-10-24T12:02:47.023888Z"
    }
   },
   "outputs": [
    {
     "data": {
      "text/plain": [
       "'Predict PRNG state: flag{rS4_prИ9_¢٥บld_6e_B4¢kd00Я£D}\\n'"
      ]
     },
     "execution_count": 9,
     "metadata": {},
     "output_type": "execute_result"
    }
   ],
   "source": [
    "re.recvline()\n",
    "re.recvline().decode()"
   ]
  },
  {
   "cell_type": "code",
   "execution_count": null,
   "id": "69a481b2",
   "metadata": {},
   "outputs": [],
   "source": []
  }
 ],
 "metadata": {
  "kernelspec": {
   "display_name": "SageMath 10.1",
   "language": "sage",
   "name": "sagemath"
  },
  "language_info": {
   "codemirror_mode": {
    "name": "ipython",
    "version": 3
   },
   "file_extension": ".py",
   "mimetype": "text/x-python",
   "name": "python",
   "nbconvert_exporter": "python",
   "pygments_lexer": "ipython3",
   "version": "3.11.5"
  }
 },
 "nbformat": 4,
 "nbformat_minor": 5
}
